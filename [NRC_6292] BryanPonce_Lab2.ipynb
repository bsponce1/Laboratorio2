{
 "cells": [
  {
   "cell_type": "code",
   "execution_count": 12,
   "id": "268bac12",
   "metadata": {},
   "outputs": [],
   "source": [
    "\"\"\"Importación de la librería pandas para el leer dataset\"\"\"\n",
    "import pandas as pd"
   ]
  },
  {
   "cell_type": "code",
   "execution_count": 16,
   "id": "fb55baba",
   "metadata": {},
   "outputs": [
    {
     "name": "stdout",
     "output_type": "stream",
     "text": [
      "   Goles  Pase  velocidad   Tiempo Bueno\n",
      "0    200  1000         20       90    SI\n",
      "1    100  1050         10       60    NO\n",
      "2     30  1000         30       50    NO\n",
      "3     15   500         15       50    NO\n",
      "4    400  1200         40       90    SI\n",
      "5     10  1000         20       90    NO\n",
      "6     20  1200         30       90    NO\n",
      "7    250  1000         40       80    SI\n",
      "8     40  1500         35       90    SI\n",
      "9    350  1000         30       90    SI\n"
     ]
    }
   ],
   "source": [
    "\"\"\"Se carga y se lee los datos del dataset\"\"\"\n",
    "df = pd.read_csv('data.csv')\n",
    "\"\"\"Se muestra los datos\"\"\"\n",
    "print(df) "
   ]
  },
  {
   "cell_type": "code",
   "execution_count": 17,
   "id": "ab8fe6d1",
   "metadata": {},
   "outputs": [
    {
     "name": "stdout",
     "output_type": "stream",
     "text": [
      "   Goles  Pase  velocidad   Tiempo  Bueno\n",
      "0    200  1000         20       90      1\n",
      "1    100  1050         10       60      0\n",
      "2     30  1000         30       50      0\n",
      "3     15   500         15       50      0\n",
      "4    400  1200         40       90      1\n",
      "5     10  1000         20       90      0\n",
      "6     20  1200         30       90      0\n",
      "7    250  1000         40       80      1\n",
      "8     40  1500         35       90      1\n",
      "9    350  1000         30       90      1\n"
     ]
    }
   ],
   "source": [
    "\"\"\"Remplazar etiquetas\"\"\"\n",
    "d = {'SI': 1, 'NO': 0}\n",
    "\n",
    "\"\"\"Binarizar target\"\"\"\n",
    "df['Bueno'] = df['Bueno'].map(d) \n",
    "\"\"\"Muestra con las etiquetas asignadas\"\"\"\n",
    "print(df)"
   ]
  },
  {
   "cell_type": "code",
   "execution_count": 19,
   "id": "f0f757b8",
   "metadata": {},
   "outputs": [],
   "source": [
    "\"\"\"Se elige la características\"\"\"\n",
    "carac = ['Goles', 'Pase', 'velocidad', ' Tiempo']\n",
    "\"\"\"Se lo guarda en una variable la características\"\"\"\n",
    "X = df[carac]"
   ]
  },
  {
   "cell_type": "code",
   "execution_count": null,
   "id": "7b7ab19f",
   "metadata": {},
   "outputs": [],
   "source": []
  }
 ],
 "metadata": {
  "kernelspec": {
   "display_name": "Python 3 (ipykernel)",
   "language": "python",
   "name": "python3"
  },
  "language_info": {
   "codemirror_mode": {
    "name": "ipython",
    "version": 3
   },
   "file_extension": ".py",
   "mimetype": "text/x-python",
   "name": "python",
   "nbconvert_exporter": "python",
   "pygments_lexer": "ipython3",
   "version": "3.9.12"
  }
 },
 "nbformat": 4,
 "nbformat_minor": 5
}
