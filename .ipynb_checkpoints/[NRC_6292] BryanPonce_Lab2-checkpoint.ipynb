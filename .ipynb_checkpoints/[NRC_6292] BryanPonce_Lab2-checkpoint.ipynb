{
 "cells": [
  {
   "cell_type": "code",
   "execution_count": 1,
   "id": "04ace7ad",
   "metadata": {},
   "outputs": [],
   "source": [
    "\"\"\"Importación de la librería pandas para el leer dataset\"\"\"\n",
    "import pandas as pd\n",
    "\"\"\"La librería permite instanciar el modelo de árboles de decisión\"\"\"\n",
    "from sklearn.tree import DecisionTreeClassifier\n",
    "\"\"\"Librería tree se utiliza para la clasificación y la regresión \"\"\"\n",
    "from sklearn import tree\n",
    "\"\"\"Librería pydotplus que pemrite interpretar los resultados en base a reglas\"\"\"\n",
    "import pydotplus \n",
    "\"\"\"Para realiza los gráficos y lo guarda\"\"\"\n",
    "import matplotlib.pyplot as plt\n",
    "\"\"\"Para realizar los gráficos\"\"\"\n",
    "import matplotlib.image as pltimg\n",
    "%matplotlib notebook\n",
    "\"\"\"Para exportar la gráfica\"\"\"\n",
    "from sklearn.tree import export_graphviz\n",
    "\"\"\"Importación de la librería para realizar la clasificación\"\"\"\n",
    "from sklearn.model_selection import train_test_split \n",
    "\"\"\"El módulo de métricas de la librería sklearn\"\"\"\n",
    "from sklearn import svm \n"
   ]
  },
  {
   "cell_type": "code",
   "execution_count": 2,
   "id": "153750b1",
   "metadata": {},
   "outputs": [
    {
     "name": "stdout",
     "output_type": "stream",
     "text": [
      "   Goles  Pase  velocidad   Tiempo Bueno\n",
      "0    200  1000         20       90    SI\n",
      "1    100  1050         10       60    NO\n",
      "2     30  1000         30       50    NO\n",
      "3     15   500         15       50    NO\n",
      "4    400  1200         40       90    SI\n",
      "5     10  1000         20       90    NO\n",
      "6     20  1200         30       90    NO\n",
      "7    250  1000         40       80    SI\n",
      "8     40  1500         35       90    SI\n",
      "9    350  1000         30       90    SI\n"
     ]
    }
   ],
   "source": [
    "\"\"\"Se carga y se lee los datos del dataset\"\"\"\n",
    "df = pd.read_csv('data.csv')\n",
    "\"\"\"Se muestra los datos\"\"\"\n",
    "print(df) "
   ]
  },
  {
   "cell_type": "code",
   "execution_count": 3,
   "id": "8401a1cb",
   "metadata": {},
   "outputs": [
    {
     "name": "stdout",
     "output_type": "stream",
     "text": [
      "   Goles  Pase  velocidad   Tiempo  Bueno\n",
      "0    200  1000         20       90      1\n",
      "1    100  1050         10       60      0\n",
      "2     30  1000         30       50      0\n",
      "3     15   500         15       50      0\n",
      "4    400  1200         40       90      1\n",
      "5     10  1000         20       90      0\n",
      "6     20  1200         30       90      0\n",
      "7    250  1000         40       80      1\n",
      "8     40  1500         35       90      1\n",
      "9    350  1000         30       90      1\n"
     ]
    }
   ],
   "source": [
    "\"\"\"Remplazar etiquetas\"\"\"\n",
    "d = {'SI': 1, 'NO': 0}\n",
    "\n",
    "\"\"\"Binarizar target\"\"\"\n",
    "df['Bueno'] = df['Bueno'].map(d) \n",
    "\"\"\"Muestra con las etiquetas asignadas\"\"\"\n",
    "print(df)"
   ]
  },
  {
   "cell_type": "code",
   "execution_count": 4,
   "id": "0da07279",
   "metadata": {},
   "outputs": [],
   "source": [
    "\"\"\"Se elige la características\"\"\"\n",
    "carac = ['Goles', 'Pase', 'velocidad', ' Tiempo']\n",
    "\"\"\"Se lo guarda en una variable la características\"\"\"\n",
    "X = df[carac]"
   ]
  },
  {
   "cell_type": "code",
   "execution_count": 5,
   "id": "06d5a05b",
   "metadata": {},
   "outputs": [
    {
     "name": "stdout",
     "output_type": "stream",
     "text": [
      "   Goles  Pase  velocidad   Tiempo\n",
      "0    200  1000         20       90\n",
      "1    100  1050         10       60\n",
      "2     30  1000         30       50\n",
      "3     15   500         15       50\n",
      "4    400  1200         40       90\n",
      "5     10  1000         20       90\n",
      "6     20  1200         30       90\n",
      "7    250  1000         40       80\n",
      "8     40  1500         35       90\n",
      "9    350  1000         30       90\n",
      "\n",
      "0    1\n",
      "1    0\n",
      "2    0\n",
      "3    0\n",
      "4    1\n",
      "5    0\n",
      "6    0\n",
      "7    1\n",
      "8    1\n",
      "9    1\n",
      "Name: Bueno, dtype: int64\n"
     ]
    }
   ],
   "source": [
    "\"\"\"Toma el objetivo\"\"\"\n",
    "y = df['Bueno']\n",
    "\n",
    "\"\"\"Muestra las características y el objetivos\"\"\"\n",
    "print(X, y, sep='\\n\\n')\n",
    "\n",
    "X_train, X_test, y_train, y_test = train_test_split(X, y, test_size=0.3, random_state=109)\n",
    "\"\"\"Se divide los conjuntos de datos en 70% de entrenamiento y 30% de prueba seleccionando registros al azar.\"\"\"\n",
    "clf = svm.SVC(kernel='linear')\n",
    "\"\"\"Se crea el clasificador svm con kernel lineal\"\"\"\n",
    "clf.fit(X_train, y_train)\n",
    "\"\"\"Se entrena el modelo\"\"\"\n",
    "y_pred = clf.predict(X_test)\n",
    "\"\"\"Predicción del objetivo\"\"\"\n",
    "\n",
    "\"\"\"Instancia el árbol de decisión\"\"\"\n",
    "arbol= DecisionTreeClassifier()\n",
    "\n",
    "\"\"\"Entrena el modelo\"\"\"\n",
    "arbol=arbol.fit(X, y)\n"
   ]
  },
  {
   "cell_type": "code",
   "execution_count": 6,
   "id": "b1406ac6",
   "metadata": {},
   "outputs": [
    {
     "ename": "InvocationException",
     "evalue": "Program terminated with status: 1. stderr follows: \"C:\\Users\\Bryan\" no se reconoce como un comando interno o externo,\r\nprograma o archivo por lotes ejecutable.\r\n",
     "output_type": "error",
     "traceback": [
      "\u001b[1;31m---------------------------------------------------------------------------\u001b[0m",
      "\u001b[1;31mInvocationException\u001b[0m                       Traceback (most recent call last)",
      "Input \u001b[1;32mIn [6]\u001b[0m, in \u001b[0;36m<cell line: 3>\u001b[1;34m()\u001b[0m\n\u001b[0;32m      1\u001b[0m datos\u001b[38;5;241m=\u001b[39m tree\u001b[38;5;241m.\u001b[39mexport_graphviz(arbol, out_file\u001b[38;5;241m=\u001b[39m\u001b[38;5;28;01mNone\u001b[39;00m, feature_names\u001b[38;5;241m=\u001b[39mcarac)\n\u001b[0;32m      2\u001b[0m graph \u001b[38;5;241m=\u001b[39m pydotplus\u001b[38;5;241m.\u001b[39mgraph_from_dot_data(datos)\n\u001b[1;32m----> 3\u001b[0m \u001b[43mgraph\u001b[49m\u001b[38;5;241;43m.\u001b[39;49m\u001b[43mwrite_png\u001b[49m\u001b[43m(\u001b[49m\u001b[38;5;124;43m'\u001b[39;49m\u001b[38;5;124;43mtree_decision.png\u001b[39;49m\u001b[38;5;124;43m'\u001b[39;49m\u001b[43m)\u001b[49m\n",
      "File \u001b[1;32m~\\anaconda3\\lib\\site-packages\\pydotplus\\graphviz.py:1804\u001b[0m, in \u001b[0;36mDot.__init__.<locals>.<lambda>\u001b[1;34m(path, f, prog)\u001b[0m\n\u001b[0;32m   1794\u001b[0m     f\u001b[38;5;241m.\u001b[39m\u001b[38;5;18m__doc__\u001b[39m \u001b[38;5;241m=\u001b[39m (\n\u001b[0;32m   1795\u001b[0m         \u001b[38;5;124;03m'''Refer to the docstring accompanying the'''\u001b[39;00m\n\u001b[0;32m   1796\u001b[0m         \u001b[38;5;124;03m''''create' method for more information.'''\u001b[39;00m\n\u001b[0;32m   1797\u001b[0m     )\n\u001b[0;32m   1799\u001b[0m \u001b[38;5;28;01mfor\u001b[39;00m frmt \u001b[38;5;129;01min\u001b[39;00m \u001b[38;5;28mself\u001b[39m\u001b[38;5;241m.\u001b[39mformats \u001b[38;5;241m+\u001b[39m [\u001b[38;5;124m'\u001b[39m\u001b[38;5;124mraw\u001b[39m\u001b[38;5;124m'\u001b[39m]:\n\u001b[0;32m   1800\u001b[0m     \u001b[38;5;28mself\u001b[39m\u001b[38;5;241m.\u001b[39m\u001b[38;5;21m__setattr__\u001b[39m(\n\u001b[0;32m   1801\u001b[0m         \u001b[38;5;124m'\u001b[39m\u001b[38;5;124mwrite_\u001b[39m\u001b[38;5;124m'\u001b[39m \u001b[38;5;241m+\u001b[39m frmt,\n\u001b[0;32m   1802\u001b[0m         \u001b[38;5;28;01mlambda\u001b[39;00m path,\n\u001b[0;32m   1803\u001b[0m         f\u001b[38;5;241m=\u001b[39mfrmt,\n\u001b[1;32m-> 1804\u001b[0m         prog\u001b[38;5;241m=\u001b[39m\u001b[38;5;28mself\u001b[39m\u001b[38;5;241m.\u001b[39mprog: \u001b[38;5;28;43mself\u001b[39;49m\u001b[38;5;241;43m.\u001b[39;49m\u001b[43mwrite\u001b[49m\u001b[43m(\u001b[49m\u001b[43mpath\u001b[49m\u001b[43m,\u001b[49m\u001b[43m \u001b[49m\u001b[38;5;28;43mformat\u001b[39;49m\u001b[38;5;241;43m=\u001b[39;49m\u001b[43mf\u001b[49m\u001b[43m,\u001b[49m\u001b[43m \u001b[49m\u001b[43mprog\u001b[49m\u001b[38;5;241;43m=\u001b[39;49m\u001b[43mprog\u001b[49m\u001b[43m)\u001b[49m\n\u001b[0;32m   1805\u001b[0m     )\n\u001b[0;32m   1807\u001b[0m     f \u001b[38;5;241m=\u001b[39m \u001b[38;5;28mself\u001b[39m\u001b[38;5;241m.\u001b[39m\u001b[38;5;18m__dict__\u001b[39m[\u001b[38;5;124m'\u001b[39m\u001b[38;5;124mwrite_\u001b[39m\u001b[38;5;124m'\u001b[39m \u001b[38;5;241m+\u001b[39m frmt]\n\u001b[0;32m   1808\u001b[0m     f\u001b[38;5;241m.\u001b[39m\u001b[38;5;18m__doc__\u001b[39m \u001b[38;5;241m=\u001b[39m (\n\u001b[0;32m   1809\u001b[0m         \u001b[38;5;124;03m'''Refer to the docstring accompanying the'''\u001b[39;00m\n\u001b[0;32m   1810\u001b[0m         \u001b[38;5;124;03m''''write' method for more information.'''\u001b[39;00m\n\u001b[0;32m   1811\u001b[0m     )\n",
      "File \u001b[1;32m~\\anaconda3\\lib\\site-packages\\pydotplus\\graphviz.py:1912\u001b[0m, in \u001b[0;36mDot.write\u001b[1;34m(self, path, prog, format)\u001b[0m\n\u001b[0;32m   1909\u001b[0m         fobj\u001b[38;5;241m.\u001b[39mwrite(data)\n\u001b[0;32m   1911\u001b[0m     \u001b[38;5;28;01melse\u001b[39;00m:\n\u001b[1;32m-> 1912\u001b[0m         fobj\u001b[38;5;241m.\u001b[39mwrite(\u001b[38;5;28;43mself\u001b[39;49m\u001b[38;5;241;43m.\u001b[39;49m\u001b[43mcreate\u001b[49m\u001b[43m(\u001b[49m\u001b[43mprog\u001b[49m\u001b[43m,\u001b[49m\u001b[43m \u001b[49m\u001b[38;5;28;43mformat\u001b[39;49m\u001b[43m)\u001b[49m)\n\u001b[0;32m   1913\u001b[0m \u001b[38;5;28;01mfinally\u001b[39;00m:\n\u001b[0;32m   1914\u001b[0m     \u001b[38;5;28;01mif\u001b[39;00m close:\n",
      "File \u001b[1;32m~\\anaconda3\\lib\\site-packages\\pydotplus\\graphviz.py:2024\u001b[0m, in \u001b[0;36mDot.create\u001b[1;34m(self, prog, format)\u001b[0m\n\u001b[0;32m   2021\u001b[0m status \u001b[38;5;241m=\u001b[39m p\u001b[38;5;241m.\u001b[39mwait()\n\u001b[0;32m   2023\u001b[0m \u001b[38;5;28;01mif\u001b[39;00m status \u001b[38;5;241m!=\u001b[39m \u001b[38;5;241m0\u001b[39m:\n\u001b[1;32m-> 2024\u001b[0m     \u001b[38;5;28;01mraise\u001b[39;00m InvocationException(\n\u001b[0;32m   2025\u001b[0m         \u001b[38;5;124m'\u001b[39m\u001b[38;5;124mProgram terminated with status: \u001b[39m\u001b[38;5;132;01m%d\u001b[39;00m\u001b[38;5;124m. stderr follows: \u001b[39m\u001b[38;5;132;01m%s\u001b[39;00m\u001b[38;5;124m'\u001b[39m \u001b[38;5;241m%\u001b[39m (\n\u001b[0;32m   2026\u001b[0m             status, stderr_output))\n\u001b[0;32m   2027\u001b[0m \u001b[38;5;28;01melif\u001b[39;00m stderr_output:\n\u001b[0;32m   2028\u001b[0m     \u001b[38;5;28mprint\u001b[39m(stderr_output)\n",
      "\u001b[1;31mInvocationException\u001b[0m: Program terminated with status: 1. stderr follows: \"C:\\Users\\Bryan\" no se reconoce como un comando interno o externo,\r\nprograma o archivo por lotes ejecutable.\r\n"
     ]
    }
   ],
   "source": [
    "datos= tree.export_graphviz(arbol, out_file=None, feature_names=carac)\n",
    "graph = pydotplus.graph_from_dot_data(datos)\n",
    "graph.write_png('tree_decision.png')"
   ]
  },
  {
   "cell_type": "code",
   "execution_count": null,
   "id": "f11748b1",
   "metadata": {},
   "outputs": [],
   "source": [
    "img = pltimg.imread('tree_decision.png')\n",
    "\"\"\"Se le asigna una variable al arbol y se lo lee\"\"\"\n",
    "imgplot = plt.imshow(img)\n",
    "\"\"\"Se muestra la imagen \"\"\"\n",
    "plt.show()\n",
    "\"\"\"Se visualiza el gráfico\"\"\"\n",
    "img = pltimg.imread('mydecisiontree.png')\n",
    "\"\"\"Se lee el gráfico\"\"\"\n",
    "imgplot = plt.imshow(img)\n",
    "\"\"\"Se muestra la imagen \"\"\"\n",
    "plt.show()\n",
    "\"\"\"Se visualiza el gráfico\"\"\""
   ]
  }
 ],
 "metadata": {
  "kernelspec": {
   "display_name": "Python 3 (ipykernel)",
   "language": "python",
   "name": "python3"
  },
  "language_info": {
   "codemirror_mode": {
    "name": "ipython",
    "version": 3
   },
   "file_extension": ".py",
   "mimetype": "text/x-python",
   "name": "python",
   "nbconvert_exporter": "python",
   "pygments_lexer": "ipython3",
   "version": "3.9.12"
  }
 },
 "nbformat": 4,
 "nbformat_minor": 5
}
